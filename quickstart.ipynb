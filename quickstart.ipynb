{
  "cells": [
    {
      "cell_type": "code",
      "execution_count": null,
      "metadata": {
        "id": "Z5KDzB1Y2gTe"
      },
      "outputs": [],
      "source": [
        "!git clone https://github.com/Spraveen8-chary/S.E.A.R.C.H.git"
      ]
    },
    {
      "cell_type": "code",
      "execution_count": 3,
      "metadata": {
        "id": "p2uqfNE42vdR"
      },
      "outputs": [],
      "source": [
        "import os\n",
        "os.chdir(\"/content/S.E.A.R.C.H\")"
      ]
    },
    {
      "cell_type": "code",
      "execution_count": null,
      "metadata": {
        "id": "mQ3xquhO3AQA"
      },
      "outputs": [],
      "source": [
        "!pip install -r requirements.txt"
      ]
    },
    {
      "cell_type": "code",
      "execution_count": null,
      "metadata": {
        "id": "EcFG00Ic72dQ"
      },
      "outputs": [],
      "source": [
        "%env SERP_API=<API>\n",
        "%env COHERE_API=<API>"
      ]
    },
    {
      "cell_type": "code",
      "execution_count": null,
      "metadata": {
        "id": "mk7E9XbXRxVb"
      },
      "outputs": [],
      "source": [
        "!python app.py --retriver_top_k 25 --reranker_top_k 10 --node_chunk_size 8000"
      ]
    }
  ],
  "metadata": {
    "accelerator": "GPU",
    "colab": {
      "gpuType": "T4",
      "provenance": []
    },
    "kernelspec": {
      "display_name": "Python 3",
      "name": "python3"
    },
    "language_info": {
      "name": "python"
    }
  },
  "nbformat": 4,
  "nbformat_minor": 0
}
