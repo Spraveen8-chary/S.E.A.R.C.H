{
  "nbformat": 4,
  "nbformat_minor": 0,
  "metadata": {
    "colab": {
      "provenance": [],
      "gpuType": "T4",
      "authorship_tag": "ABX9TyPxn9AhtbU4IplsrLH0rL+w",
      "include_colab_link": true
    },
    "kernelspec": {
      "name": "python3",
      "display_name": "Python 3"
    },
    "language_info": {
      "name": "python"
    },
    "accelerator": "GPU"
  },
  "cells": [
    {
      "cell_type": "markdown",
      "metadata": {
        "id": "view-in-github",
        "colab_type": "text"
      },
      "source": [
        "<a href=\"https://colab.research.google.com/github/Spraveen8-chary/S.E.A.R.C.H/blob/main/quick_start.ipynb\" target=\"_parent\"><img src=\"https://colab.research.google.com/assets/colab-badge.svg\" alt=\"Open In Colab\"/></a>"
      ]
    },
    {
      "cell_type": "code",
      "execution_count": null,
      "metadata": {
        "id": "sct-19G80Zed"
      },
      "outputs": [],
      "source": [
        "!git clone https://github.com/Spraveen8-chary/S.E.A.R.C.H.git"
      ]
    },
    {
      "cell_type": "code",
      "source": [
        "import os\n",
        "os.chdir(\"/content/S.E.A.R.C.H\")"
      ],
      "metadata": {
        "id": "aQl0m9l00i23"
      },
      "execution_count": null,
      "outputs": []
    },
    {
      "cell_type": "code",
      "source": [
        "!pip install -r requirements.txt"
      ],
      "metadata": {
        "id": "LMWoN3S10i0B"
      },
      "execution_count": null,
      "outputs": []
    },
    {
      "cell_type": "code",
      "source": [
        "%env SERP_API=<API>\n",
        "%env COHERE_API=<API>"
      ],
      "metadata": {
        "id": "GNUS-ITg0ixQ"
      },
      "execution_count": null,
      "outputs": []
    },
    {
      "cell_type": "code",
      "source": [
        "!python app.py --retriver_top_k 25 --reranker_top_k 10 --node_chunk_size 8000"
      ],
      "metadata": {
        "id": "41y1bwGd0ipq"
      },
      "execution_count": null,
      "outputs": []
    }
  ]
}